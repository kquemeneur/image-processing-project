{
 "cells": [
  {
   "cell_type": "code",
   "execution_count": null,
   "outputs": [],
   "source": [
    "import skimage as ski"
   ],
   "metadata": {
    "collapsed": false,
    "is_executing": true
   },
   "id": "caa31acf5b8a4eaf"
  },
  {
   "cell_type": "code",
   "execution_count": null,
   "outputs": [],
   "source": [],
   "metadata": {
    "collapsed": false
   },
   "id": "60fa05fadb5d3f12"
  }
 ],
 "metadata": {},
 "nbformat": 4,
 "nbformat_minor": 5
}
